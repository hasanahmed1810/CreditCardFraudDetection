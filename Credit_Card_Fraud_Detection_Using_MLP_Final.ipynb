{
  "cells": [
    {
      "cell_type": "markdown",
      "metadata": {
        "id": "OMdG6ev4AgiX"
      },
      "source": [
        "###Group Members\n",
        "Hasan Ahmed 321600 \\\n",
        "Muhammad Hassaan 288203 \\\n",
        "Abdullahi Ali 324977 \\\n",
        "Kainat Agha 304512"
      ]
    },
    {
      "cell_type": "markdown",
      "metadata": {
        "id": "3aEdBaxr4Eg8"
      },
      "source": [
        "###Importing Libraries"
      ]
    },
    {
      "cell_type": "code",
      "execution_count": 1,
      "metadata": {
        "id": "rARo-_C6W_Cr"
      },
      "outputs": [],
      "source": [
        "import numpy as np\n",
        "import pandas as pd\n",
        "import matplotlib.pyplot as plt\n",
        "from sklearn.feature_selection import SelectKBest, mutual_info_classif\n",
        "from sklearn.metrics import accuracy_score\n",
        "from  sklearn.model_selection  import  train_test_split \n",
        "from  sklearn.neural_network  import  MLPClassifier \n",
        "from imblearn.over_sampling import RandomOverSampler\n",
        "from imblearn.under_sampling import RandomUnderSampler\n",
        "from collections import Counter\n",
        "from sklearn.metrics import confusion_matrix"
      ]
    },
    {
      "cell_type": "markdown",
      "metadata": {
        "id": "b-QpNOTA4GHC"
      },
      "source": [
        "###Reading Data"
      ]
    },
    {
      "cell_type": "code",
      "execution_count": 2,
      "metadata": {
        "colab": {
          "base_uri": "https://localhost:8080/",
          "height": 299
        },
        "id": "AGOM1TUiKNdz",
        "outputId": "f2d445f7-dd2e-42d3-a2d3-046175bfef60"
      },
      "outputs": [
        {
          "data": {
            "text/html": [
              "<div>\n",
              "<style scoped>\n",
              "    .dataframe tbody tr th:only-of-type {\n",
              "        vertical-align: middle;\n",
              "    }\n",
              "\n",
              "    .dataframe tbody tr th {\n",
              "        vertical-align: top;\n",
              "    }\n",
              "\n",
              "    .dataframe thead th {\n",
              "        text-align: right;\n",
              "    }\n",
              "</style>\n",
              "<table border=\"1\" class=\"dataframe\">\n",
              "  <thead>\n",
              "    <tr style=\"text-align: right;\">\n",
              "      <th></th>\n",
              "      <th>Time</th>\n",
              "      <th>V1</th>\n",
              "      <th>V2</th>\n",
              "      <th>V3</th>\n",
              "      <th>V4</th>\n",
              "      <th>V5</th>\n",
              "      <th>V6</th>\n",
              "      <th>V7</th>\n",
              "      <th>V8</th>\n",
              "      <th>V9</th>\n",
              "      <th>...</th>\n",
              "      <th>V21</th>\n",
              "      <th>V22</th>\n",
              "      <th>V23</th>\n",
              "      <th>V24</th>\n",
              "      <th>V25</th>\n",
              "      <th>V26</th>\n",
              "      <th>V27</th>\n",
              "      <th>V28</th>\n",
              "      <th>Amount</th>\n",
              "      <th>Class</th>\n",
              "    </tr>\n",
              "  </thead>\n",
              "  <tbody>\n",
              "    <tr>\n",
              "      <th>0</th>\n",
              "      <td>0.0</td>\n",
              "      <td>-1.359807</td>\n",
              "      <td>-0.072781</td>\n",
              "      <td>2.536347</td>\n",
              "      <td>1.378155</td>\n",
              "      <td>-0.338321</td>\n",
              "      <td>0.462388</td>\n",
              "      <td>0.239599</td>\n",
              "      <td>0.098698</td>\n",
              "      <td>0.363787</td>\n",
              "      <td>...</td>\n",
              "      <td>-0.018307</td>\n",
              "      <td>0.277838</td>\n",
              "      <td>-0.110474</td>\n",
              "      <td>0.066928</td>\n",
              "      <td>0.128539</td>\n",
              "      <td>-0.189115</td>\n",
              "      <td>0.133558</td>\n",
              "      <td>-0.021053</td>\n",
              "      <td>149.62</td>\n",
              "      <td>0</td>\n",
              "    </tr>\n",
              "    <tr>\n",
              "      <th>1</th>\n",
              "      <td>0.0</td>\n",
              "      <td>1.191857</td>\n",
              "      <td>0.266151</td>\n",
              "      <td>0.166480</td>\n",
              "      <td>0.448154</td>\n",
              "      <td>0.060018</td>\n",
              "      <td>-0.082361</td>\n",
              "      <td>-0.078803</td>\n",
              "      <td>0.085102</td>\n",
              "      <td>-0.255425</td>\n",
              "      <td>...</td>\n",
              "      <td>-0.225775</td>\n",
              "      <td>-0.638672</td>\n",
              "      <td>0.101288</td>\n",
              "      <td>-0.339846</td>\n",
              "      <td>0.167170</td>\n",
              "      <td>0.125895</td>\n",
              "      <td>-0.008983</td>\n",
              "      <td>0.014724</td>\n",
              "      <td>2.69</td>\n",
              "      <td>0</td>\n",
              "    </tr>\n",
              "    <tr>\n",
              "      <th>2</th>\n",
              "      <td>1.0</td>\n",
              "      <td>-1.358354</td>\n",
              "      <td>-1.340163</td>\n",
              "      <td>1.773209</td>\n",
              "      <td>0.379780</td>\n",
              "      <td>-0.503198</td>\n",
              "      <td>1.800499</td>\n",
              "      <td>0.791461</td>\n",
              "      <td>0.247676</td>\n",
              "      <td>-1.514654</td>\n",
              "      <td>...</td>\n",
              "      <td>0.247998</td>\n",
              "      <td>0.771679</td>\n",
              "      <td>0.909412</td>\n",
              "      <td>-0.689281</td>\n",
              "      <td>-0.327642</td>\n",
              "      <td>-0.139097</td>\n",
              "      <td>-0.055353</td>\n",
              "      <td>-0.059752</td>\n",
              "      <td>378.66</td>\n",
              "      <td>0</td>\n",
              "    </tr>\n",
              "    <tr>\n",
              "      <th>3</th>\n",
              "      <td>1.0</td>\n",
              "      <td>-0.966272</td>\n",
              "      <td>-0.185226</td>\n",
              "      <td>1.792993</td>\n",
              "      <td>-0.863291</td>\n",
              "      <td>-0.010309</td>\n",
              "      <td>1.247203</td>\n",
              "      <td>0.237609</td>\n",
              "      <td>0.377436</td>\n",
              "      <td>-1.387024</td>\n",
              "      <td>...</td>\n",
              "      <td>-0.108300</td>\n",
              "      <td>0.005274</td>\n",
              "      <td>-0.190321</td>\n",
              "      <td>-1.175575</td>\n",
              "      <td>0.647376</td>\n",
              "      <td>-0.221929</td>\n",
              "      <td>0.062723</td>\n",
              "      <td>0.061458</td>\n",
              "      <td>123.50</td>\n",
              "      <td>0</td>\n",
              "    </tr>\n",
              "    <tr>\n",
              "      <th>4</th>\n",
              "      <td>2.0</td>\n",
              "      <td>-1.158233</td>\n",
              "      <td>0.877737</td>\n",
              "      <td>1.548718</td>\n",
              "      <td>0.403034</td>\n",
              "      <td>-0.407193</td>\n",
              "      <td>0.095921</td>\n",
              "      <td>0.592941</td>\n",
              "      <td>-0.270533</td>\n",
              "      <td>0.817739</td>\n",
              "      <td>...</td>\n",
              "      <td>-0.009431</td>\n",
              "      <td>0.798278</td>\n",
              "      <td>-0.137458</td>\n",
              "      <td>0.141267</td>\n",
              "      <td>-0.206010</td>\n",
              "      <td>0.502292</td>\n",
              "      <td>0.219422</td>\n",
              "      <td>0.215153</td>\n",
              "      <td>69.99</td>\n",
              "      <td>0</td>\n",
              "    </tr>\n",
              "  </tbody>\n",
              "</table>\n",
              "<p>5 rows × 31 columns</p>\n",
              "</div>"
            ],
            "text/plain": [
              "   Time        V1        V2        V3        V4        V5        V6        V7  \\\n",
              "0   0.0 -1.359807 -0.072781  2.536347  1.378155 -0.338321  0.462388  0.239599   \n",
              "1   0.0  1.191857  0.266151  0.166480  0.448154  0.060018 -0.082361 -0.078803   \n",
              "2   1.0 -1.358354 -1.340163  1.773209  0.379780 -0.503198  1.800499  0.791461   \n",
              "3   1.0 -0.966272 -0.185226  1.792993 -0.863291 -0.010309  1.247203  0.237609   \n",
              "4   2.0 -1.158233  0.877737  1.548718  0.403034 -0.407193  0.095921  0.592941   \n",
              "\n",
              "         V8        V9  ...       V21       V22       V23       V24       V25  \\\n",
              "0  0.098698  0.363787  ... -0.018307  0.277838 -0.110474  0.066928  0.128539   \n",
              "1  0.085102 -0.255425  ... -0.225775 -0.638672  0.101288 -0.339846  0.167170   \n",
              "2  0.247676 -1.514654  ...  0.247998  0.771679  0.909412 -0.689281 -0.327642   \n",
              "3  0.377436 -1.387024  ... -0.108300  0.005274 -0.190321 -1.175575  0.647376   \n",
              "4 -0.270533  0.817739  ... -0.009431  0.798278 -0.137458  0.141267 -0.206010   \n",
              "\n",
              "        V26       V27       V28  Amount  Class  \n",
              "0 -0.189115  0.133558 -0.021053  149.62      0  \n",
              "1  0.125895 -0.008983  0.014724    2.69      0  \n",
              "2 -0.139097 -0.055353 -0.059752  378.66      0  \n",
              "3 -0.221929  0.062723  0.061458  123.50      0  \n",
              "4  0.502292  0.219422  0.215153   69.99      0  \n",
              "\n",
              "[5 rows x 31 columns]"
            ]
          },
          "execution_count": 2,
          "metadata": {},
          "output_type": "execute_result"
        }
      ],
      "source": [
        "data = pd.read_csv(\"C:\\\\Users\\\\hasan\\\\Downloads\\\\ml\\\\Credit_Card_Fraud_Detection_Dataset.csv\")\n",
        "data.head()"
      ]
    },
    {
      "cell_type": "markdown",
      "metadata": {
        "id": "1UGKHHhuvV7q"
      },
      "source": [
        "###Setting the dependent and independent variables"
      ]
    },
    {
      "cell_type": "code",
      "execution_count": 3,
      "metadata": {
        "id": "8dYq9F58vJvE"
      },
      "outputs": [],
      "source": [
        "X = data.drop(['Class'], axis=1)\n",
        "y = data['Class']"
      ]
    },
    {
      "cell_type": "markdown",
      "metadata": {
        "id": "HYV0HbsX1ihX"
      },
      "source": [
        "###Undersampling Data"
      ]
    },
    {
      "cell_type": "code",
      "execution_count": 4,
      "metadata": {
        "colab": {
          "base_uri": "https://localhost:8080/"
        },
        "id": "kWBo1meRSaJI",
        "outputId": "e3c3e7be-3bbc-42f3-d753-655915e36104"
      },
      "outputs": [
        {
          "data": {
            "text/plain": [
              "Counter({0: 492, 1: 492})"
            ]
          },
          "execution_count": 4,
          "metadata": {},
          "output_type": "execute_result"
        }
      ],
      "source": [
        "undersample = RandomUnderSampler(sampling_strategy='majority')\n",
        "X_undersample, y_undersample = undersample.fit_resample(X, y)\n",
        "Counter(y_undersample)"
      ]
    },
    {
      "cell_type": "markdown",
      "metadata": {
        "id": "uC7kNAysxgAn"
      },
      "source": [
        "###Oversampling Data"
      ]
    },
    {
      "cell_type": "code",
      "execution_count": 5,
      "metadata": {
        "colab": {
          "base_uri": "https://localhost:8080/"
        },
        "id": "q3wW6v8bxBI8",
        "outputId": "7d075351-ad8f-4117-b19e-8fbcb089e71c"
      },
      "outputs": [
        {
          "data": {
            "text/plain": [
              "Counter({0: 284315, 1: 284315})"
            ]
          },
          "execution_count": 5,
          "metadata": {},
          "output_type": "execute_result"
        }
      ],
      "source": [
        "oversample = RandomOverSampler(sampling_strategy='minority')\n",
        "X_oversample, y_oversample = oversample.fit_resample(X, y)\n",
        "Counter(y_oversample)"
      ]
    },
    {
      "cell_type": "markdown",
      "metadata": {
        "id": "z4cbr4wz2_XB"
      },
      "source": [
        "###Feature Selection using oversampled data (10 best features)"
      ]
    },
    {
      "cell_type": "code",
      "execution_count": 6,
      "metadata": {
        "colab": {
          "base_uri": "https://localhost:8080/"
        },
        "id": "gKktfz_P_Vlk",
        "outputId": "c7a3ba38-7f86-4767-ad9d-d76b8d86e5c5"
      },
      "outputs": [
        {
          "data": {
            "text/plain": [
              "array([[  2.53634674,   1.37815522,   0.36378697, ...,  -0.47040053,\n",
              "          0.20797124,   0.02579058],\n",
              "       [  0.16648011,   0.44815408,  -0.25542513, ...,   0.46391704,\n",
              "         -0.11480466,  -0.18336127],\n",
              "       [  1.77320934,   0.37977959,  -1.51465432, ...,  -2.89008319,\n",
              "          1.10996938,  -0.12135931],\n",
              "       ...,\n",
              "       [  0.39468433,   3.17025757,   0.86004362, ...,   0.33564217,\n",
              "          2.29899822,  -0.16209621],\n",
              "       [ -3.51340796,   3.17505971,  -0.80200523, ...,  -2.50204942,\n",
              "         -4.46049463,  -0.87052575],\n",
              "       [-24.64381878,   6.23253182,  -3.87129682, ...,  -6.45478324,\n",
              "        -12.84565652,  -4.86591774]])"
            ]
          },
          "execution_count": 6,
          "metadata": {},
          "output_type": "execute_result"
        }
      ],
      "source": [
        "X_oversample_after_feature_selection = SelectKBest(k=10, score_func=mutual_info_classif).fit_transform(X_oversample, y_oversample)\n",
        "X_oversample_after_feature_selection"
      ]
    },
    {
      "cell_type": "markdown",
      "metadata": {
        "id": "5MC7HLQ04LMo"
      },
      "source": [
        "###Spliting data into training and testing sets"
      ]
    },
    {
      "cell_type": "code",
      "execution_count": 35,
      "metadata": {
        "id": "zkeO_la54FO9"
      },
      "outputs": [],
      "source": [
        "X_train_over ,  X_test_over ,  y_train_over ,  y_test_over  =  train_test_split  ( X_oversample_after_feature_selection, y_oversample ,  test_size  =  0.3)"
      ]
    },
    {
      "cell_type": "markdown",
      "metadata": {
        "id": "02HIzIjy4W5R"
      },
      "source": [
        "###Training Model (final model) "
      ]
    },
    {
      "cell_type": "code",
      "execution_count": 66,
      "metadata": {
        "colab": {
          "base_uri": "https://localhost:8080/"
        },
        "id": "epjNVWXq4Tz4",
        "outputId": "31dd87aa-1f5e-4136-8d6f-4a3a2f5b472d"
      },
      "outputs": [
        {
          "data": {
            "text/plain": [
              "0.9998090648953248"
            ]
          },
          "execution_count": 66,
          "metadata": {},
          "output_type": "execute_result"
        }
      ],
      "source": [
        "MLPC = MLPClassifier ( activation='tanh', learning_rate_init = 0.001, hidden_layer_sizes = (200 ,),  max_iter = 2000 ) \n",
        "MLPC.fit( X_train_over ,  y_train_over )\n",
        "MLPC.score(X_train_over ,  y_train_over)  "
      ]
    },
    {
      "cell_type": "markdown",
      "metadata": {
        "id": "L2At2_3l4fsm"
      },
      "source": [
        "###Testing Model"
      ]
    },
    {
      "cell_type": "code",
      "execution_count": 75,
      "metadata": {
        "colab": {
          "base_uri": "https://localhost:8080/"
        },
        "id": "q4PoW1Ih45Zb",
        "outputId": "4d108212-b324-42c9-ddb3-9e2b3a573ee2"
      },
      "outputs": [
        {
          "data": {
            "text/plain": [
              "0.9995486227130705"
            ]
          },
          "execution_count": 75,
          "metadata": {},
          "output_type": "execute_result"
        }
      ],
      "source": [
        "y_pred = MLPC.predict(X_test_over) \n",
        "accuracy_score(y_pred = y_pred, y_true = y_test_over)"
      ]
    },
    {
      "cell_type": "markdown",
      "metadata": {
        "id": "hQKAfubx4kBJ"
      },
      "source": [
        "###Confusion Matrix"
      ]
    },
    {
      "cell_type": "code",
      "execution_count": 76,
      "metadata": {
        "colab": {
          "base_uri": "https://localhost:8080/"
        },
        "id": "q7xgwPUG4ju3",
        "outputId": "1d4cf14e-331e-47ad-ce12-35c9e7e1969f"
      },
      "outputs": [
        {
          "data": {
            "text/plain": [
              "array([[85004,    77],\n",
              "       [    0, 85508]], dtype=int64)"
            ]
          },
          "execution_count": 76,
          "metadata": {},
          "output_type": "execute_result"
        }
      ],
      "source": [
        "confusion_matrix(y_test_over, y_pred, labels=[0, 1])"
      ]
    }
  ],
  "metadata": {
    "colab": {
      "collapsed_sections": [],
      "name": "Credit_Card_Fraud_Detection_Using_MLP_Final.ipynb",
      "provenance": []
    },
    "interpreter": {
      "hash": "9c0813d608ff04d3d3b0c56e086576a25170ff29faf572612b6fb1a7c5568f37"
    },
    "kernelspec": {
      "display_name": "Python 3.9.12 ('base')",
      "language": "python",
      "name": "python3"
    },
    "language_info": {
      "codemirror_mode": {
        "name": "ipython",
        "version": 3
      },
      "file_extension": ".py",
      "mimetype": "text/x-python",
      "name": "python",
      "nbconvert_exporter": "python",
      "pygments_lexer": "ipython3",
      "version": "3.9.12"
    }
  },
  "nbformat": 4,
  "nbformat_minor": 0
}
